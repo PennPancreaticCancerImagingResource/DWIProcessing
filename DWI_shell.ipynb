{
 "cells": [
  {
   "cell_type": "code",
   "execution_count": null,
   "metadata": {
    "colab": {
     "base_uri": "https://localhost:8080/"
    },
    "executionInfo": {
     "elapsed": 12083,
     "status": "ok",
     "timestamp": 1658151801896,
     "user": {
      "displayName": "Mamta Gupta",
      "userId": "12597132651361006580"
     },
     "user_tz": 240
    },
    "id": "982iIIQu8XHT",
    "outputId": "0c29bde3-b43a-4aa1-d5ec-ceeecbc9355e"
   },
   "outputs": [],
   "source": [
    "import numpy as np\n",
    "PI = np.pi\n",
    "import matplotlib.pyplot as plt\n",
    "import scipy.special as sp\n",
    "import math\n",
    "from scipy import signal\n",
    "import cmath\n",
    "from scipy.optimize import curve_fit\n",
    "import matplotlib.backends.backend_pdf\n",
    "import os\n",
    "import pandas as pd\n",
    "\n",
    "\n",
    "############## Parameters to change #####################\n",
    "input_file = 'fid' # k-space data\n",
    "\n",
    "# Acquisition data\n",
    "xres_ro = 128 # total readout points stored\n",
    "views = 403 # number of radial views\n",
    "# angl = (math.sqrt(5)-1)/2 * PI # golden angle in radians\n",
    "angl = 2*PI/views # used by Steve Pickup\n",
    "\n",
    "# Image data\n",
    "xres = 96   # actual number of points collected\n",
    "yres = 96\n",
    "slices = 16 \n",
    "bvalues = 5 \n",
    "b_array = np.array([10, 535, 1070, 1479, 2141]) # b-values\n",
    "\n",
    "###################### Run Code ###########################\n",
    "image_dimensions = [slices, bvalues, yres, xres]\n",
    "kspace_dimensions = [xres_ro, views, angl]\n",
    "\n",
    "%run DWI_processing_functions.py"
   ]
  },
  {
   "cell_type": "code",
   "execution_count": null,
   "metadata": {
    "colab": {
     "base_uri": "https://localhost:8080/",
     "height": 1000
    },
    "executionInfo": {
     "elapsed": 428968,
     "status": "ok",
     "timestamp": 1658152234386,
     "user": {
      "displayName": "Mamta Gupta",
      "userId": "12597132651361006580"
     },
     "user_tz": 240
    },
    "id": "sMvvcphCJF-U",
    "outputId": "868bd8d3-6793-4bd6-8c93-c4acd894ddd8",
    "scrolled": true
   },
   "outputs": [],
   "source": [
    "# Create and save dwis\n",
    "dwis = reconstruct_radial_DWIs(input_file=input_file, img_dim = image_dimensions, kspace_dim = kspace_dimensions) # Saves DWIs"
   ]
  },
  {
   "cell_type": "code",
   "execution_count": null,
   "metadata": {
    "colab": {
     "base_uri": "https://localhost:8080/"
    },
    "executionInfo": {
     "elapsed": 28977,
     "status": "ok",
     "timestamp": 1658115896757,
     "user": {
      "displayName": "Mamta Gupta",
      "userId": "12597132651361006580"
     },
     "user_tz": 240
    },
    "id": "ylqv7Yln2SJ-",
    "outputId": "f2bd1928-bd68-4af0-a947-99fe1762f53d"
   },
   "outputs": [],
   "source": [
    "SNR_threshold = 5 # minimum SNR to be identified as not background; will not fit voxels below this SNR, speeding up processing\n",
    "region = [0,10,0,10] # Where \"noise\" is defined [x1,x2,y1,y2]; by default, top left corner\n",
    "\n",
    "dwi_fits = diffusion_fit(b_array=b_array, dwis=dwis, SNR_threshold=SNR_threshold, noise_region=region)"
   ]
  },
  {
   "cell_type": "code",
   "execution_count": null,
   "metadata": {},
   "outputs": [],
   "source": [
    "mask_path = \"mask.raw\"\n",
    "mask_index = ['Phantom 1', 'Phantom 2', 'Tumor', 'Muscle', 'Kidney']\n",
    "\n",
    "ROI_results = ROI_analysis(mask_file=mask_path, img_dims=image_dimensions, index=mask_index, dwi_fits=dwi_fits)\n",
    "ROI_ADC_masks = ROI_results[0]\n",
    "ROI_ADC_means = ROI_results[1]\n",
    "ROI_KI_masks = ROI_results[2]\n",
    "ROI_KI_means = ROI_results[3]"
   ]
  }
 ],
 "metadata": {
  "colab": {
   "collapsed_sections": [],
   "name": "DWI_shell.ipynb",
   "provenance": []
  },
  "kernelspec": {
   "display_name": "Python 3",
   "language": "python",
   "name": "python3"
  },
  "language_info": {
   "codemirror_mode": {
    "name": "ipython",
    "version": 3
   },
   "file_extension": ".py",
   "mimetype": "text/x-python",
   "name": "python",
   "nbconvert_exporter": "python",
   "pygments_lexer": "ipython3",
   "version": "3.7.6"
  }
 },
 "nbformat": 4,
 "nbformat_minor": 1
}
